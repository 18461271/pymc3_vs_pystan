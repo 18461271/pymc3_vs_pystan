{
 "cells": [
  {
   "cell_type": "code",
   "execution_count": 4,
   "metadata": {
    "collapsed": false,
    "slideshow": {
     "slide_type": "skip"
    }
   },
   "outputs": [
    {
     "data": {
      "text/html": [
       "<style>.container { width:90% !important; } div.cell.selected { border-left-width: 1px !important;}</style>"
      ],
      "text/plain": [
       "<IPython.core.display.HTML object>"
      ]
     },
     "execution_count": 4,
     "metadata": {},
     "output_type": "execute_result"
    }
   ],
   "source": [
    "from IPython.core.display import HTML\n",
    "HTML(\"<style>.container { width:90% !important; } div.cell.selected { border-left-width: 1px !important;}</style>\")"
   ]
  },
  {
   "cell_type": "markdown",
   "metadata": {
    "slideshow": {
     "slide_type": "slide"
    }
   },
   "source": [
    "<div style=float:right><img src=\"assets/img/parent_mfr_coeffs.png\" style=\"margin: 0px 20px 0px 20px; width=45%\"></img></div>\n",
    "\n",
    "\n",
    "\n",
    "# Hierachical Modelling with PyMC3 and PyStan\n",
    "\n",
    "Can we use Bayesian inference to determine unusual car emissions tests for Volkswagen? \n",
    "\n",
    "<br/>\n",
    "\n",
    "#### Jonathan Sedar  \n",
    "Consulting Data Scientist  \n",
    "Applied AI Ltd  \n",
    "<a href=\"https:/twitter.com/jonsedar\">@jonsedar</a>  \n",
    "<a href='http://www.applied.ai'>applied.ai</a>  \n",
    "\n",
    "#PyDataLondon 11:45–12:30 Sun 08 May 2016 \n",
    "\n",
    "<div style=float:left><img src=\"assets/img/appliedai-logo.png\" width=100/></div>\n",
    "\n",
    "\n"
   ]
  },
  {
   "cell_type": "markdown",
   "metadata": {
    "slideshow": {
     "slide_type": "subslide"
    }
   },
   "source": [
    "I'm co-director of Applied AI Ltd, a niche data science consultancy operating in the insurance sector. I've a background in physics and machine learning, and over ten years experience providing advice and insights to senior audiences in a variety of industries in Europe & USA.\n",
    "\n",
    "I helped to setup DataKind Dublin and still volunteer with the UK chapter, am co-organiser of the Bayesian Mixer London meetup group, and all too often use speaking events and blogposts to force myself to learn stuff! See http://blog.applied.ai for more material like this talk."
   ]
  },
  {
   "cell_type": "markdown",
   "metadata": {
    "slideshow": {
     "slide_type": "subslide"
    }
   },
   "source": [
    "Llewelyn Richards-Ward: http://andrewgelman.com/2015/10/15/whats-the-one-thing-you-have-to-know-about-pystan-and-pymc-click-here-to-find-out/\n",
    "\n",
    "Hierarchical https://github.com/pymc-devs/pymc3/blob/master/pymc3/examples/hierarchical.ipynb\n",
    "\n",
    "Cars "
   ]
  },
  {
   "cell_type": "markdown",
   "metadata": {
    "slideshow": {
     "slide_type": "subslide"
    }
   },
   "source": [
    "# Overview\n",
    "\n",
    "Bayesian inference bridges the gap between white-box model introspection and black-box predictive performance. We gain the ability to fully specify a model and fit it to observed data according to our prior knowledge. Small datasets are handled well and the overall method and results are very intuitive: lending to both statistical insight and future prediction.\n",
    "\n",
    "This talk will demonstrate the use of Bayesian inference in a real-world scenario: using a set of hierarchical models to compare exhaust emissions data from a set of vehicle manufacturers.\n",
    "\n",
    "This will be interesting to people who work in the Type A side of data science, and will demonstrate usage of the tools as well as some theory."
   ]
  },
  {
   "cell_type": "markdown",
   "metadata": {
    "collapsed": true,
    "slideshow": {
     "slide_type": "subslide"
    }
   },
   "source": [
    "<img src=\"assets/img/continuum.png\" style=\"margin: 0px 20px 0px 20px; width=45%\"></img>"
   ]
  },
  {
   "cell_type": "markdown",
   "metadata": {
    "slideshow": {
     "slide_type": "subslide"
    }
   },
   "source": [
    "# The Frameworks\n",
    "\n",
    "PyMC3 and PySTAN are two of the leading frameworks for Bayesian inference in Python: offering concise model specification, MCMC sampling, and a growing amount of built-in conveniences for model validation, verification and prediction.\n",
    "\n",
    "PyMC3 is an iteration upon the prior PyMC2, and comprises a comprehensive package of symbolic statistical modelling syntax and very efficient gradient-based samplers using the Theano library (of deep-learning fame) for gradient computation. Of particular interest is that it includes the Non U-Turn Sampler (NUTS) developed recently by Hoffman & Gelman in 2014, which is only otherwise available in STAN.\n",
    "\n",
    "PySTAN is a wrapper around STAN, a major3 open-source framework for Bayesian inference developed by Gelman, Carpenter, Hoffman and many others. STAN also has HMC and NUTS samplers, and recently, Variational Inference - which is a very efficient way to approximate the joint probability distribution. Models are specified in a custom syntax and compiled to C++."
   ]
  },
  {
   "cell_type": "markdown",
   "metadata": {
    "slideshow": {
     "slide_type": "subslide"
    }
   },
   "source": [
    "# The Real-World Problem & Dataset\n",
    "\n",
    "I'm currently quite interested in road traffic and vehicle insurance, so I've dug into the [UK VCA](http://www.dft.gov.uk/vca/) (Vehicle Type Approval) to find their [Car Fuel and Emissions Information](http://carfueldata.direct.gov.uk/) for August 2015. The raw dataset is available for [direct download](http://carfueldata.direct.gov.uk/downloads/download.aspx?rg=aug2015) and is small but varied enough for our use here: roughly 2500 cars and 10 features inc hierarchies of car parent-manufacturer > manufacturer > model.\n",
    "\n",
    "I will investigate the car emissions data from the point-of-view of the [Volkswagen Emissions Scandal](https://en.wikipedia.org/wiki/Volkswagen_emissions_scandal) which seems to have [meaningfully damaged their sales](http://www.usatoday.com/story/money/cars/2015/12/01/emissions-scandal-crushes-volkswagen-sales-november/76605062/). Perhaps we can find unusual results in the emissions data for Volkswagen."
   ]
  },
  {
   "cell_type": "markdown",
   "metadata": {
    "slideshow": {
     "slide_type": "subslide"
    }
   },
   "source": [
    "# Or, how to cook your laptop in ten easy steps\n",
    "\n",
    "<img src=\"assets/img/LaptopCooling03.png\" style=\"margin: 0px 20px 0px 20px; width=45%\"></img>"
   ]
  },
  {
   "cell_type": "code",
   "execution_count": null,
   "metadata": {
    "collapsed": true
   },
   "outputs": [],
   "source": []
  },
  {
   "cell_type": "code",
   "execution_count": null,
   "metadata": {
    "collapsed": true
   },
   "outputs": [],
   "source": []
  },
  {
   "cell_type": "markdown",
   "metadata": {
    "slideshow": {
     "slide_type": "skip"
    }
   },
   "source": [
    "---\n",
    "**Applied AI Ltd &copy; 2016**  \n",
    "<a href='http://www.applied.ai'>applied.ai</a>"
   ]
  }
 ],
 "metadata": {
  "celltoolbar": "Slideshow",
  "kernelspec": {
   "display_name": "Python 3",
   "language": "python",
   "name": "python3"
  },
  "language_info": {
   "codemirror_mode": {
    "name": "ipython",
    "version": 3
   },
   "file_extension": ".py",
   "mimetype": "text/x-python",
   "name": "python",
   "nbconvert_exporter": "python",
   "pygments_lexer": "ipython3",
   "version": "3.5.1"
  }
 },
 "nbformat": 4,
 "nbformat_minor": 0
}
