{
 "cells": [
  {
   "cell_type": "markdown",
   "metadata": {},
   "source": [
    "<div style=float:right><img src=\"assets/img/appliedai-logo.png\" width=100 style=\"margin: 0px 20px\"></img></div>\n",
    "\n",
    "\n",
    "##### Jonathan Sedar Personal Project\n",
    "## PyMC3 vs PyStan Comparison\n",
    "_Spring 2016_\n",
    "\n",
    "This set of Notebooks and scripts comprise the **pymc3_vs_pystan** personal project by Jonathan Sedar of Applied AI Ltd, written primarily for presentation at the PyData London 2016 Conference.\n",
    "\n",
    "The project demonstrates hierarchical linear regression using two Bayesian inference frameworks: PyMC3 and PyStan. The project borrows heavily from code written for Applied AI Ltd and is supplied here for educational purposes only. No copyright or license is extended to users.\n",
    "\n",
    "    \n",
    "# 10_DataEngineering\n",
    "\n",
    "#### Acquisition, Basic Cleaning, Feature Creation\n",
    "    \n",
    "    \n",
    "    \n",
    "+ [Setup](#Setup)\n",
    "    + [Local Functions](#Local-Functions)\n",
    "    + [Load Raw Data](#Load-Raw-Data)\n",
    "\n",
    "\n",
    "+ [Prepare Data](#Prepare-Data)\n",
    "    + [Cleaning and Exclusions](#Cleaning-and-Exclusions)\n",
    "    + [Feature Creation](#Feature-Creation)\n",
    "    + [Check size of data of interest](#Check-size-of-data-of-interest)\n",
    "    + [Save to store](#Save-to-store)\n"
   ]
  },
  {
   "cell_type": "markdown",
   "metadata": {},
   "source": [
    "# Setup"
   ]
  },
  {
   "cell_type": "code",
   "execution_count": 1,
   "metadata": {
    "collapsed": false
   },
   "outputs": [],
   "source": [
    "## Interactive magics\n",
    "%matplotlib inline\n",
    "%qtconsole --colors=linux"
   ]
  },
  {
   "cell_type": "code",
   "execution_count": 2,
   "metadata": {
    "collapsed": false
   },
   "outputs": [],
   "source": [
    "# general packages\n",
    "import string\n",
    "import regex as re\n",
    "import requests\n",
    "import sqlite3\n",
    "from zipfile import ZipFile\n",
    "from io import BytesIO\n",
    "from convenience_functions import *\n",
    "from ipywidgets import interactive, fixed\n",
    "\n",
    "# scientific packages\n",
    "import numpy as np\n",
    "import pandas as pd\n",
    "import matplotlib.pyplot as plt\n",
    "import seaborn as sns\n",
    "\n",
    "sns.set(style=\"darkgrid\", palette=\"muted\")\n",
    "# plt.style.use('ggplot')\n",
    "plt.rcParams['figure.figsize'] = 12, 6\n",
    "np.random.seed(0)"
   ]
  },
  {
   "cell_type": "markdown",
   "metadata": {},
   "source": [
    "## Local Functions"
   ]
  },
  {
   "cell_type": "code",
   "execution_count": 3,
   "metadata": {
    "collapsed": false
   },
   "outputs": [],
   "source": [
    "def get_cardata(sqlcnx, tblnm='raw'):\n",
    "    \"\"\" Extract car data from local sqlite db or go download it \n",
    "        Deals with zipfiles nicely\n",
    "    \"\"\"\n",
    "\n",
    "    zip_url = 'http://carfueldata.direct.gov.uk/additional/aug2015/'\n",
    "    zip_fn = 'download-data-for-Aug-2015-Euro-6.zip'\n",
    "    \n",
    "    csr = cnxsql.cursor()\n",
    "    tblexist = csr.execute((\"select * from sqlite_master \" +\n",
    "                           \"where type = 'table' and name = ?\"), (tblnm,)).fetchall()\n",
    "    \n",
    "    if len(tblexist) == 0:  # go get info from interwebs\n",
    "        try:         \n",
    "            r = requests.get(zip_url + zip_fn)\n",
    "            f = ZipFile(BytesIO(r.content), mode='r')\n",
    "            fn = f.namelist()[0]\n",
    "            dfraw = pd.read_csv(f.open(fn), encoding='cp1252', sep=',') # <- Excel encoding!   \n",
    "            dfraw.rename(columns=lambda x: snakey_lowercase(x), inplace=True)\n",
    "            dfraw.drop([c for c in dfraw.columns if c[:3] == 'unn'], inplace=True, axis=1)\n",
    "            dfraw.to_sql('raw', cnxsql, if_exists='replace', index=None)\n",
    "            print('Retrived dataset from web and stored in db')\n",
    "        \n",
    "        except Exception as e:\n",
    "            raise e     # TODO make error better\n",
    "    else:\n",
    "        dfraw = pd.read_sql('select * from raw', cnxsql, index_col=None)\n",
    "        print('Used dataset from existing db')\n",
    "       \n",
    "    return dfraw\n",
    "\n",
    "\n",
    "def clean_transmission(x):\n",
    "    \"\"\" extract info from transmission: manual / auto / semiauto \"\"\"\n",
    "    try:\n",
    "        s = re.sub('^[0-9]{1}','', x.lower())\n",
    "    except:\n",
    "        return ''\n",
    "       \n",
    "    if (s[0] == 'a') | (s[:2] == 'qa'):\n",
    "        return 'auto'\n",
    "    \n",
    "    elif s[:3] =='mul':\n",
    "        return 'auto'\n",
    "    \n",
    "    elif (s[0] == 'm') | (s[:2] == 'qm'):\n",
    "        if len(s) == 1:\n",
    "            print(x)\n",
    "        if s[1] != 'u':\n",
    "            return 'manual'\n",
    "        \n",
    "    elif (s[0] == 'd') | (s[:2] == 'qd') | \\\n",
    "        (re.search('ssg$',s) != None) | (re.search('cvt$',s) != None) | \\\n",
    "        (re.search('sat[0-9]',s) != None):\n",
    "        return 'semiauto'\n",
    "    \n",
    "    else:\n",
    "        return 'unknown'\n",
    "    "
   ]
  },
  {
   "cell_type": "markdown",
   "metadata": {},
   "source": [
    "## Load Raw Data"
   ]
  },
  {
   "cell_type": "code",
   "execution_count": 4,
   "metadata": {
    "collapsed": true
   },
   "outputs": [],
   "source": [
    "cnxsql = sqlite3.connect('data/car_emissions.db')"
   ]
  },
  {
   "cell_type": "code",
   "execution_count": 5,
   "metadata": {
    "collapsed": false
   },
   "outputs": [
    {
     "name": "stdout",
     "output_type": "stream",
     "text": [
      "Retrived dataset from web and stored in db\n",
      "(2666, 27)\n"
     ]
    },
    {
     "data": {
      "text/html": [
       "<div>\n",
       "<table border=\"1\" class=\"dataframe\">\n",
       "  <thead>\n",
       "    <tr style=\"text-align: right;\">\n",
       "      <th></th>\n",
       "      <th>2607</th>\n",
       "      <th>1653</th>\n",
       "      <th>835</th>\n",
       "      <th>count</th>\n",
       "      <th>mean</th>\n",
       "      <th>std</th>\n",
       "      <th>min</th>\n",
       "      <th>25%</th>\n",
       "      <th>50%</th>\n",
       "      <th>75%</th>\n",
       "      <th>max</th>\n",
       "      <th>dtype</th>\n",
       "    </tr>\n",
       "  </thead>\n",
       "  <tbody>\n",
       "    <tr>\n",
       "      <th>manufacturer</th>\n",
       "      <td>VOLVO</td>\n",
       "      <td>MERCEDES-BENZ</td>\n",
       "      <td>BMW</td>\n",
       "      <td>2666</td>\n",
       "      <td>NaN</td>\n",
       "      <td>NaN</td>\n",
       "      <td>NaN</td>\n",
       "      <td>NaN</td>\n",
       "      <td>NaN</td>\n",
       "      <td>NaN</td>\n",
       "      <td>NaN</td>\n",
       "      <td>object</td>\n",
       "    </tr>\n",
       "    <tr>\n",
       "      <th>model</th>\n",
       "      <td>V40, MY16</td>\n",
       "      <td>C-Class Saloon, Model Year 2015</td>\n",
       "      <td>7 Series F01/F02</td>\n",
       "      <td>2666</td>\n",
       "      <td>NaN</td>\n",
       "      <td>NaN</td>\n",
       "      <td>NaN</td>\n",
       "      <td>NaN</td>\n",
       "      <td>NaN</td>\n",
       "      <td>NaN</td>\n",
       "      <td>NaN</td>\n",
       "      <td>object</td>\n",
       "    </tr>\n",
       "    <tr>\n",
       "      <th>description</th>\n",
       "      <td>T3</td>\n",
       "      <td>C 200 with 18\" rear wheels</td>\n",
       "      <td>730d Saloon</td>\n",
       "      <td>2666</td>\n",
       "      <td>NaN</td>\n",
       "      <td>NaN</td>\n",
       "      <td>NaN</td>\n",
       "      <td>NaN</td>\n",
       "      <td>NaN</td>\n",
       "      <td>NaN</td>\n",
       "      <td>NaN</td>\n",
       "      <td>object</td>\n",
       "    </tr>\n",
       "    <tr>\n",
       "      <th>transmission</th>\n",
       "      <td>6AT</td>\n",
       "      <td>M6</td>\n",
       "      <td>A8</td>\n",
       "      <td>2657</td>\n",
       "      <td>NaN</td>\n",
       "      <td>NaN</td>\n",
       "      <td>NaN</td>\n",
       "      <td>NaN</td>\n",
       "      <td>NaN</td>\n",
       "      <td>NaN</td>\n",
       "      <td>NaN</td>\n",
       "      <td>object</td>\n",
       "    </tr>\n",
       "    <tr>\n",
       "      <th>engine_capacity</th>\n",
       "      <td>1498</td>\n",
       "      <td>1991</td>\n",
       "      <td>2993</td>\n",
       "      <td>2659</td>\n",
       "      <td>2072.17</td>\n",
       "      <td>902.38</td>\n",
       "      <td>395.0</td>\n",
       "      <td>1560.00</td>\n",
       "      <td>1984.0</td>\n",
       "      <td>1999.00</td>\n",
       "      <td>6752.0</td>\n",
       "      <td>float64</td>\n",
       "    </tr>\n",
       "    <tr>\n",
       "      <th>fuel_type</th>\n",
       "      <td>Petrol</td>\n",
       "      <td>Petrol</td>\n",
       "      <td>Diesel</td>\n",
       "      <td>2666</td>\n",
       "      <td>NaN</td>\n",
       "      <td>NaN</td>\n",
       "      <td>NaN</td>\n",
       "      <td>NaN</td>\n",
       "      <td>NaN</td>\n",
       "      <td>NaN</td>\n",
       "      <td>NaN</td>\n",
       "      <td>object</td>\n",
       "    </tr>\n",
       "    <tr>\n",
       "      <th>electric_energy_consumption_mileskwh</th>\n",
       "      <td>NaN</td>\n",
       "      <td>NaN</td>\n",
       "      <td>NaN</td>\n",
       "      <td>19</td>\n",
       "      <td>4.96</td>\n",
       "      <td>1.95</td>\n",
       "      <td>3.4</td>\n",
       "      <td>3.95</td>\n",
       "      <td>4.6</td>\n",
       "      <td>5.45</td>\n",
       "      <td>12.4</td>\n",
       "      <td>float64</td>\n",
       "    </tr>\n",
       "    <tr>\n",
       "      <th>whkm</th>\n",
       "      <td>NaN</td>\n",
       "      <td>NaN</td>\n",
       "      <td>NaN</td>\n",
       "      <td>19</td>\n",
       "      <td>135.21</td>\n",
       "      <td>31.38</td>\n",
       "      <td>50.0</td>\n",
       "      <td>114.00</td>\n",
       "      <td>135.0</td>\n",
       "      <td>156.50</td>\n",
       "      <td>182.0</td>\n",
       "      <td>float64</td>\n",
       "    </tr>\n",
       "    <tr>\n",
       "      <th>maximum_range_km</th>\n",
       "      <td>NaN</td>\n",
       "      <td>NaN</td>\n",
       "      <td>NaN</td>\n",
       "      <td>19</td>\n",
       "      <td>103.05</td>\n",
       "      <td>73.69</td>\n",
       "      <td>31.0</td>\n",
       "      <td>34.50</td>\n",
       "      <td>53.0</td>\n",
       "      <td>172.50</td>\n",
       "      <td>212.0</td>\n",
       "      <td>float64</td>\n",
       "    </tr>\n",
       "    <tr>\n",
       "      <th>maximum_range_miles</th>\n",
       "      <td>NaN</td>\n",
       "      <td>NaN</td>\n",
       "      <td>NaN</td>\n",
       "      <td>19</td>\n",
       "      <td>63.89</td>\n",
       "      <td>45.90</td>\n",
       "      <td>19.0</td>\n",
       "      <td>21.50</td>\n",
       "      <td>33.0</td>\n",
       "      <td>107.50</td>\n",
       "      <td>132.0</td>\n",
       "      <td>float64</td>\n",
       "    </tr>\n",
       "    <tr>\n",
       "      <th>metric_urban_cold</th>\n",
       "      <td>7.3</td>\n",
       "      <td>7.1</td>\n",
       "      <td>6.5</td>\n",
       "      <td>2647</td>\n",
       "      <td>7.10</td>\n",
       "      <td>3.00</td>\n",
       "      <td>0.0</td>\n",
       "      <td>5.20</td>\n",
       "      <td>6.2</td>\n",
       "      <td>8.10</td>\n",
       "      <td>24.7</td>\n",
       "      <td>float64</td>\n",
       "    </tr>\n",
       "    <tr>\n",
       "      <th>metric_extra_urban</th>\n",
       "      <td>4.5</td>\n",
       "      <td>4.6</td>\n",
       "      <td>5.1</td>\n",
       "      <td>2647</td>\n",
       "      <td>4.85</td>\n",
       "      <td>2.35</td>\n",
       "      <td>0.0</td>\n",
       "      <td>4.00</td>\n",
       "      <td>4.5</td>\n",
       "      <td>5.30</td>\n",
       "      <td>107.0</td>\n",
       "      <td>float64</td>\n",
       "    </tr>\n",
       "    <tr>\n",
       "      <th>metric_combined</th>\n",
       "      <td>5.5</td>\n",
       "      <td>5.5</td>\n",
       "      <td>5.6</td>\n",
       "      <td>2659</td>\n",
       "      <td>5.68</td>\n",
       "      <td>2.73</td>\n",
       "      <td>0.6</td>\n",
       "      <td>4.40</td>\n",
       "      <td>5.1</td>\n",
       "      <td>6.30</td>\n",
       "      <td>108.0</td>\n",
       "      <td>float64</td>\n",
       "    </tr>\n",
       "    <tr>\n",
       "      <th>imperial_urban_cold</th>\n",
       "      <td>38.7</td>\n",
       "      <td>39.8</td>\n",
       "      <td>43.5</td>\n",
       "      <td>2647</td>\n",
       "      <td>44.72</td>\n",
       "      <td>13.30</td>\n",
       "      <td>0.0</td>\n",
       "      <td>34.90</td>\n",
       "      <td>45.6</td>\n",
       "      <td>54.30</td>\n",
       "      <td>91.1</td>\n",
       "      <td>float64</td>\n",
       "    </tr>\n",
       "    <tr>\n",
       "      <th>imperial_extra_urban</th>\n",
       "      <td>62.8</td>\n",
       "      <td>61.4</td>\n",
       "      <td>55.4</td>\n",
       "      <td>2647</td>\n",
       "      <td>61.87</td>\n",
       "      <td>13.18</td>\n",
       "      <td>0.0</td>\n",
       "      <td>53.30</td>\n",
       "      <td>62.8</td>\n",
       "      <td>70.60</td>\n",
       "      <td>108.6</td>\n",
       "      <td>float64</td>\n",
       "    </tr>\n",
       "    <tr>\n",
       "      <th>imperial_combined</th>\n",
       "      <td>51.4</td>\n",
       "      <td>51.4</td>\n",
       "      <td>50.4</td>\n",
       "      <td>2659</td>\n",
       "      <td>54.52</td>\n",
       "      <td>16.43</td>\n",
       "      <td>17.6</td>\n",
       "      <td>44.80</td>\n",
       "      <td>55.4</td>\n",
       "      <td>64.20</td>\n",
       "      <td>470.8</td>\n",
       "      <td>float64</td>\n",
       "    </tr>\n",
       "    <tr>\n",
       "      <th>co2_gkm</th>\n",
       "      <td>129</td>\n",
       "      <td>128</td>\n",
       "      <td>148</td>\n",
       "      <td>2666</td>\n",
       "      <td>137.41</td>\n",
       "      <td>41.98</td>\n",
       "      <td>0.0</td>\n",
       "      <td>112.00</td>\n",
       "      <td>128.0</td>\n",
       "      <td>151.00</td>\n",
       "      <td>370.0</td>\n",
       "      <td>int64</td>\n",
       "    </tr>\n",
       "    <tr>\n",
       "      <th>fuel_cost_12000_miles</th>\n",
       "      <td>£1,189</td>\n",
       "      <td>£1,189</td>\n",
       "      <td>£1,277</td>\n",
       "      <td>2630</td>\n",
       "      <td>NaN</td>\n",
       "      <td>NaN</td>\n",
       "      <td>NaN</td>\n",
       "      <td>NaN</td>\n",
       "      <td>NaN</td>\n",
       "      <td>NaN</td>\n",
       "      <td>NaN</td>\n",
       "      <td>object</td>\n",
       "    </tr>\n",
       "    <tr>\n",
       "      <th>electricity_cost</th>\n",
       "      <td>NaN</td>\n",
       "      <td>NaN</td>\n",
       "      <td>NaN</td>\n",
       "      <td>22</td>\n",
       "      <td>NaN</td>\n",
       "      <td>NaN</td>\n",
       "      <td>NaN</td>\n",
       "      <td>NaN</td>\n",
       "      <td>NaN</td>\n",
       "      <td>NaN</td>\n",
       "      <td>NaN</td>\n",
       "      <td>object</td>\n",
       "    </tr>\n",
       "    <tr>\n",
       "      <th>total_cost_12000_miles</th>\n",
       "      <td>£1,189</td>\n",
       "      <td>£1,189</td>\n",
       "      <td>£1,277</td>\n",
       "      <td>2633</td>\n",
       "      <td>NaN</td>\n",
       "      <td>NaN</td>\n",
       "      <td>NaN</td>\n",
       "      <td>NaN</td>\n",
       "      <td>NaN</td>\n",
       "      <td>NaN</td>\n",
       "      <td>NaN</td>\n",
       "      <td>object</td>\n",
       "    </tr>\n",
       "  </tbody>\n",
       "</table>\n",
       "</div>"
      ],
      "text/plain": [
       "                                           2607  \\\n",
       "manufacturer                              VOLVO   \n",
       "model                                 V40, MY16   \n",
       "description                                  T3   \n",
       "transmission                                6AT   \n",
       "engine_capacity                            1498   \n",
       "fuel_type                                Petrol   \n",
       "electric_energy_consumption_mileskwh        NaN   \n",
       "whkm                                        NaN   \n",
       "maximum_range_km                            NaN   \n",
       "maximum_range_miles                         NaN   \n",
       "metric_urban_cold                           7.3   \n",
       "metric_extra_urban                          4.5   \n",
       "metric_combined                             5.5   \n",
       "imperial_urban_cold                        38.7   \n",
       "imperial_extra_urban                       62.8   \n",
       "imperial_combined                          51.4   \n",
       "co2_gkm                                     129   \n",
       "fuel_cost_12000_miles                    £1,189   \n",
       "electricity_cost                            NaN   \n",
       "total_cost_12000_miles                   £1,189   \n",
       "\n",
       "                                                                 1653  \\\n",
       "manufacturer                                            MERCEDES-BENZ   \n",
       "model                                 C-Class Saloon, Model Year 2015   \n",
       "description                                C 200 with 18\" rear wheels   \n",
       "transmission                                                       M6   \n",
       "engine_capacity                                                  1991   \n",
       "fuel_type                                                      Petrol   \n",
       "electric_energy_consumption_mileskwh                              NaN   \n",
       "whkm                                                              NaN   \n",
       "maximum_range_km                                                  NaN   \n",
       "maximum_range_miles                                               NaN   \n",
       "metric_urban_cold                                                 7.1   \n",
       "metric_extra_urban                                                4.6   \n",
       "metric_combined                                                   5.5   \n",
       "imperial_urban_cold                                              39.8   \n",
       "imperial_extra_urban                                             61.4   \n",
       "imperial_combined                                                51.4   \n",
       "co2_gkm                                                           128   \n",
       "fuel_cost_12000_miles                                          £1,189   \n",
       "electricity_cost                                                  NaN   \n",
       "total_cost_12000_miles                                         £1,189   \n",
       "\n",
       "                                                   835  count     mean  \\\n",
       "manufacturer                                       BMW   2666      NaN   \n",
       "model                                 7 Series F01/F02   2666      NaN   \n",
       "description                                730d Saloon   2666      NaN   \n",
       "transmission                                        A8   2657      NaN   \n",
       "engine_capacity                                   2993   2659  2072.17   \n",
       "fuel_type                                       Diesel   2666      NaN   \n",
       "electric_energy_consumption_mileskwh               NaN     19     4.96   \n",
       "whkm                                               NaN     19   135.21   \n",
       "maximum_range_km                                   NaN     19   103.05   \n",
       "maximum_range_miles                                NaN     19    63.89   \n",
       "metric_urban_cold                                  6.5   2647     7.10   \n",
       "metric_extra_urban                                 5.1   2647     4.85   \n",
       "metric_combined                                    5.6   2659     5.68   \n",
       "imperial_urban_cold                               43.5   2647    44.72   \n",
       "imperial_extra_urban                              55.4   2647    61.87   \n",
       "imperial_combined                                 50.4   2659    54.52   \n",
       "co2_gkm                                            148   2666   137.41   \n",
       "fuel_cost_12000_miles                           £1,277   2630      NaN   \n",
       "electricity_cost                                   NaN     22      NaN   \n",
       "total_cost_12000_miles                          £1,277   2633      NaN   \n",
       "\n",
       "                                         std    min      25%     50%      75%  \\\n",
       "manufacturer                             NaN    NaN      NaN     NaN      NaN   \n",
       "model                                    NaN    NaN      NaN     NaN      NaN   \n",
       "description                              NaN    NaN      NaN     NaN      NaN   \n",
       "transmission                             NaN    NaN      NaN     NaN      NaN   \n",
       "engine_capacity                       902.38  395.0  1560.00  1984.0  1999.00   \n",
       "fuel_type                                NaN    NaN      NaN     NaN      NaN   \n",
       "electric_energy_consumption_mileskwh    1.95    3.4     3.95     4.6     5.45   \n",
       "whkm                                   31.38   50.0   114.00   135.0   156.50   \n",
       "maximum_range_km                       73.69   31.0    34.50    53.0   172.50   \n",
       "maximum_range_miles                    45.90   19.0    21.50    33.0   107.50   \n",
       "metric_urban_cold                       3.00    0.0     5.20     6.2     8.10   \n",
       "metric_extra_urban                      2.35    0.0     4.00     4.5     5.30   \n",
       "metric_combined                         2.73    0.6     4.40     5.1     6.30   \n",
       "imperial_urban_cold                    13.30    0.0    34.90    45.6    54.30   \n",
       "imperial_extra_urban                   13.18    0.0    53.30    62.8    70.60   \n",
       "imperial_combined                      16.43   17.6    44.80    55.4    64.20   \n",
       "co2_gkm                                41.98    0.0   112.00   128.0   151.00   \n",
       "fuel_cost_12000_miles                    NaN    NaN      NaN     NaN      NaN   \n",
       "electricity_cost                         NaN    NaN      NaN     NaN      NaN   \n",
       "total_cost_12000_miles                   NaN    NaN      NaN     NaN      NaN   \n",
       "\n",
       "                                         max    dtype  \n",
       "manufacturer                             NaN   object  \n",
       "model                                    NaN   object  \n",
       "description                              NaN   object  \n",
       "transmission                             NaN   object  \n",
       "engine_capacity                       6752.0  float64  \n",
       "fuel_type                                NaN   object  \n",
       "electric_energy_consumption_mileskwh    12.4  float64  \n",
       "whkm                                   182.0  float64  \n",
       "maximum_range_km                       212.0  float64  \n",
       "maximum_range_miles                    132.0  float64  \n",
       "metric_urban_cold                       24.7  float64  \n",
       "metric_extra_urban                     107.0  float64  \n",
       "metric_combined                        108.0  float64  \n",
       "imperial_urban_cold                     91.1  float64  \n",
       "imperial_extra_urban                   108.6  float64  \n",
       "imperial_combined                      470.8  float64  \n",
       "co2_gkm                                370.0    int64  \n",
       "fuel_cost_12000_miles                    NaN   object  \n",
       "electricity_cost                         NaN   object  \n",
       "total_cost_12000_miles                   NaN   object  "
      ]
     },
     "execution_count": 5,
     "metadata": {},
     "output_type": "execute_result"
    }
   ],
   "source": [
    "dfraw = get_cardata(cnxsql)\n",
    "custom_describe(dfraw)"
   ]
  },
  {
   "cell_type": "markdown",
   "metadata": {},
   "source": [
    "---"
   ]
  },
  {
   "cell_type": "markdown",
   "metadata": {},
   "source": [
    "# Prepare Data"
   ]
  },
  {
   "cell_type": "markdown",
   "metadata": {},
   "source": [
    "## Cleaning and Exclusions"
   ]
  },
  {
   "cell_type": "markdown",
   "metadata": {},
   "source": [
    "##### Rename cols"
   ]
  },
  {
   "cell_type": "code",
   "execution_count": 6,
   "metadata": {
    "collapsed": true
   },
   "outputs": [],
   "source": [
    "dfraw.rename(columns={'manufacturer':'mfr', 'description':'desc'\n",
    "                     ,'transmission':'trans'}, inplace=True)"
   ]
  },
  {
   "cell_type": "markdown",
   "metadata": {},
   "source": [
    "##### Select features of interest"
   ]
  },
  {
   "cell_type": "code",
   "execution_count": 7,
   "metadata": {
    "collapsed": true
   },
   "outputs": [],
   "source": [
    "ft_cat = ['mfr','model','desc','trans','fuel_type']\n",
    "ft_num_shared = ['metric_combined', 'metric_extra_urban', 'metric_urban_cold'\n",
    "                 ,'engine_capacity', 'emissions_co_mgkm', 'emissions_nox_mgkm']\n",
    "ft_num_diesel = ['particulates_no_mgkm', 'thc_nox_emissions_mgkm']\n",
    "ft_num_petrol = ['thc_emissions_mgkm']     "
   ]
  },
  {
   "cell_type": "code",
   "execution_count": 8,
   "metadata": {
    "collapsed": false
   },
   "outputs": [
    {
     "data": {
      "text/plain": [
       "(2666, 14)"
      ]
     },
     "execution_count": 8,
     "metadata": {},
     "output_type": "execute_result"
    }
   ],
   "source": [
    "df = dfraw[ft_cat + ft_num_shared +  ft_num_diesel + ft_num_petrol].copy()\n",
    "df.shape"
   ]
  },
  {
   "cell_type": "markdown",
   "metadata": {},
   "source": [
    "##### Drop rows containing nulls in shared features"
   ]
  },
  {
   "cell_type": "code",
   "execution_count": 9,
   "metadata": {
    "collapsed": false,
    "scrolled": true
   },
   "outputs": [
    {
     "name": "stdout",
     "output_type": "stream",
     "text": [
      "mfr (2666, 14)\n",
      "model (2666, 14)\n",
      "desc (2666, 14)\n",
      "trans (2657, 14)\n",
      "fuel_type (2657, 14)\n",
      "metric_combined (2657, 14)\n",
      "metric_extra_urban (2647, 14)\n",
      "metric_urban_cold (2647, 14)\n",
      "engine_capacity (2647, 14)\n",
      "emissions_co_mgkm (2647, 14)\n",
      "emissions_nox_mgkm (2647, 14)\n"
     ]
    }
   ],
   "source": [
    "for ft in ft_cat + ft_num_shared:\n",
    "    df = df.loc[~pd.isnull(df[ft])]\n",
    "    print('{} {}'.format(ft, df.shape))"
   ]
  },
  {
   "cell_type": "markdown",
   "metadata": {},
   "source": [
    "##### Clean strings"
   ]
  },
  {
   "cell_type": "code",
   "execution_count": 10,
   "metadata": {
    "collapsed": false
   },
   "outputs": [],
   "source": [
    "for col in ['mfr','model','desc','fuel_type']:\n",
    "    df[col] = df[col].apply(lambda x: x.lower())"
   ]
  },
  {
   "cell_type": "markdown",
   "metadata": {},
   "source": [
    "##### Change dtypes and remove junk"
   ]
  },
  {
   "cell_type": "code",
   "execution_count": 11,
   "metadata": {
    "collapsed": false
   },
   "outputs": [
    {
     "name": "stdout",
     "output_type": "stream",
     "text": [
      "(2646, 14)\n"
     ]
    }
   ],
   "source": [
    "# some cols contain numerics with comma decimals, European-style. Remove rows: can't trust.\n",
    "\n",
    "colswcommadecimal = ['emissions_nox_mgkm','thc_nox_emissions_mgkm','particulates_no_mgkm']\n",
    "\n",
    "for col in colswcommadecimal:\n",
    "    df = df.loc[df[col].apply(lambda x: re.search('[0-9]\\,[0-9]',str(x)) == None)]\n",
    "\n",
    "print(df.shape)"
   ]
  },
  {
   "cell_type": "code",
   "execution_count": 12,
   "metadata": {
    "collapsed": false
   },
   "outputs": [],
   "source": [
    "# a couple of numeric cols still report as object type, coerce to numeric\n",
    "\n",
    "for col in ['emissions_nox_mgkm', 'particulates_no_mgkm','thc_nox_emissions_mgkm']:\n",
    "    df[col] = df[col].astype(np.float)"
   ]
  },
  {
   "cell_type": "markdown",
   "metadata": {},
   "source": [
    "##### Remove duplicate rows"
   ]
  },
  {
   "cell_type": "code",
   "execution_count": 15,
   "metadata": {
    "collapsed": true
   },
   "outputs": [],
   "source": [
    "df = df.drop_duplicates()"
   ]
  },
  {
   "cell_type": "code",
   "execution_count": 17,
   "metadata": {
    "collapsed": false,
    "scrolled": false
   },
   "outputs": [
    {
     "name": "stdout",
     "output_type": "stream",
     "text": [
      "(2643, 14)\n"
     ]
    },
    {
     "data": {
      "text/html": [
       "<div>\n",
       "<table border=\"1\" class=\"dataframe\">\n",
       "  <thead>\n",
       "    <tr style=\"text-align: right;\">\n",
       "      <th></th>\n",
       "      <th>763</th>\n",
       "      <th>1741</th>\n",
       "      <th>1036</th>\n",
       "      <th>count</th>\n",
       "      <th>mean</th>\n",
       "      <th>std</th>\n",
       "      <th>min</th>\n",
       "      <th>25%</th>\n",
       "      <th>50%</th>\n",
       "      <th>75%</th>\n",
       "      <th>max</th>\n",
       "      <th>dtype</th>\n",
       "    </tr>\n",
       "  </thead>\n",
       "  <tbody>\n",
       "    <tr>\n",
       "      <th>mfr</th>\n",
       "      <td>bmw</td>\n",
       "      <td>mercedes-benz</td>\n",
       "      <td>citroen</td>\n",
       "      <td>2643</td>\n",
       "      <td>NaN</td>\n",
       "      <td>NaN</td>\n",
       "      <td>abarth</td>\n",
       "      <td>NaN</td>\n",
       "      <td>NaN</td>\n",
       "      <td>NaN</td>\n",
       "      <td>volvo</td>\n",
       "      <td>object</td>\n",
       "    </tr>\n",
       "    <tr>\n",
       "      <th>model</th>\n",
       "      <td>5 series f10/f11, from march 2010</td>\n",
       "      <td>e-class coupé, model year 2015</td>\n",
       "      <td>ds4</td>\n",
       "      <td>2643</td>\n",
       "      <td>NaN</td>\n",
       "      <td>NaN</td>\n",
       "      <td>1 seri</td>\n",
       "      <td>NaN</td>\n",
       "      <td>NaN</td>\n",
       "      <td>NaN</td>\n",
       "      <td>zafira</td>\n",
       "      <td>object</td>\n",
       "    </tr>\n",
       "    <tr>\n",
       "      <th>desc</th>\n",
       "      <td>520i touring - 245/40 r19 tyres front &amp; rear</td>\n",
       "      <td>e 220 bluetec with 17\" rear wheels</td>\n",
       "      <td>bluehdi 150 s&amp;s (18'' wheels)</td>\n",
       "      <td>2643</td>\n",
       "      <td>NaN</td>\n",
       "      <td>NaN</td>\n",
       "      <td>'1 air</td>\n",
       "      <td>NaN</td>\n",
       "      <td>NaN</td>\n",
       "      <td>NaN</td>\n",
       "      <td>zc 1.6</td>\n",
       "      <td>object</td>\n",
       "    </tr>\n",
       "    <tr>\n",
       "      <th>trans</th>\n",
       "      <td>A8</td>\n",
       "      <td>A7</td>\n",
       "      <td>M6</td>\n",
       "      <td>2643</td>\n",
       "      <td>NaN</td>\n",
       "      <td>NaN</td>\n",
       "      <td>5MT</td>\n",
       "      <td>NaN</td>\n",
       "      <td>NaN</td>\n",
       "      <td>NaN</td>\n",
       "      <td>SAT6</td>\n",
       "      <td>object</td>\n",
       "    </tr>\n",
       "    <tr>\n",
       "      <th>fuel_type</th>\n",
       "      <td>petrol</td>\n",
       "      <td>diesel</td>\n",
       "      <td>diesel</td>\n",
       "      <td>2643</td>\n",
       "      <td>NaN</td>\n",
       "      <td>NaN</td>\n",
       "      <td>diesel</td>\n",
       "      <td>NaN</td>\n",
       "      <td>NaN</td>\n",
       "      <td>NaN</td>\n",
       "      <td>petrol</td>\n",
       "      <td>object</td>\n",
       "    </tr>\n",
       "    <tr>\n",
       "      <th>metric_combined</th>\n",
       "      <td>6.7</td>\n",
       "      <td>4.7</td>\n",
       "      <td>3.9</td>\n",
       "      <td>2643</td>\n",
       "      <td>5.65</td>\n",
       "      <td>1.87</td>\n",
       "      <td>3.1</td>\n",
       "      <td>4.4</td>\n",
       "      <td>5.1</td>\n",
       "      <td>6.3</td>\n",
       "      <td>16</td>\n",
       "      <td>float64</td>\n",
       "    </tr>\n",
       "    <tr>\n",
       "      <th>metric_extra_urban</th>\n",
       "      <td>5.3</td>\n",
       "      <td>4</td>\n",
       "      <td>3.6</td>\n",
       "      <td>2643</td>\n",
       "      <td>4.85</td>\n",
       "      <td>2.35</td>\n",
       "      <td>0</td>\n",
       "      <td>4.0</td>\n",
       "      <td>4.5</td>\n",
       "      <td>5.3</td>\n",
       "      <td>107</td>\n",
       "      <td>float64</td>\n",
       "    </tr>\n",
       "    <tr>\n",
       "      <th>metric_urban_cold</th>\n",
       "      <td>9.1</td>\n",
       "      <td>5.8</td>\n",
       "      <td>4.4</td>\n",
       "      <td>2643</td>\n",
       "      <td>7.10</td>\n",
       "      <td>3.00</td>\n",
       "      <td>0</td>\n",
       "      <td>5.2</td>\n",
       "      <td>6.2</td>\n",
       "      <td>8.1</td>\n",
       "      <td>24.7</td>\n",
       "      <td>float64</td>\n",
       "    </tr>\n",
       "    <tr>\n",
       "      <th>engine_capacity</th>\n",
       "      <td>1997</td>\n",
       "      <td>2143</td>\n",
       "      <td>1997</td>\n",
       "      <td>2643</td>\n",
       "      <td>2073.12</td>\n",
       "      <td>903.98</td>\n",
       "      <td>395</td>\n",
       "      <td>1560.0</td>\n",
       "      <td>1984.0</td>\n",
       "      <td>1999.0</td>\n",
       "      <td>6752</td>\n",
       "      <td>float64</td>\n",
       "    </tr>\n",
       "    <tr>\n",
       "      <th>emissions_co_mgkm</th>\n",
       "      <td>285</td>\n",
       "      <td>143</td>\n",
       "      <td>292</td>\n",
       "      <td>2643</td>\n",
       "      <td>268.21</td>\n",
       "      <td>140.57</td>\n",
       "      <td>30</td>\n",
       "      <td>162.0</td>\n",
       "      <td>243.0</td>\n",
       "      <td>341.0</td>\n",
       "      <td>913</td>\n",
       "      <td>float64</td>\n",
       "    </tr>\n",
       "    <tr>\n",
       "      <th>emissions_nox_mgkm</th>\n",
       "      <td>32</td>\n",
       "      <td>43</td>\n",
       "      <td>51</td>\n",
       "      <td>2643</td>\n",
       "      <td>37.40</td>\n",
       "      <td>18.63</td>\n",
       "      <td>1</td>\n",
       "      <td>23.0</td>\n",
       "      <td>35.0</td>\n",
       "      <td>52.0</td>\n",
       "      <td>158</td>\n",
       "      <td>float64</td>\n",
       "    </tr>\n",
       "    <tr>\n",
       "      <th>particulates_no_mgkm</th>\n",
       "      <td>NaN</td>\n",
       "      <td>1.1</td>\n",
       "      <td>0.2</td>\n",
       "      <td>1306</td>\n",
       "      <td>0.35</td>\n",
       "      <td>0.35</td>\n",
       "      <td>0</td>\n",
       "      <td>0.1</td>\n",
       "      <td>0.2</td>\n",
       "      <td>0.5</td>\n",
       "      <td>2</td>\n",
       "      <td>float64</td>\n",
       "    </tr>\n",
       "    <tr>\n",
       "      <th>thc_nox_emissions_mgkm</th>\n",
       "      <td>NaN</td>\n",
       "      <td>58</td>\n",
       "      <td>70</td>\n",
       "      <td>1316</td>\n",
       "      <td>78.20</td>\n",
       "      <td>23.33</td>\n",
       "      <td>11</td>\n",
       "      <td>64.0</td>\n",
       "      <td>78.0</td>\n",
       "      <td>90.0</td>\n",
       "      <td>184</td>\n",
       "      <td>float64</td>\n",
       "    </tr>\n",
       "    <tr>\n",
       "      <th>thc_emissions_mgkm</th>\n",
       "      <td>26</td>\n",
       "      <td>NaN</td>\n",
       "      <td>NaN</td>\n",
       "      <td>1350</td>\n",
       "      <td>42.89</td>\n",
       "      <td>11.89</td>\n",
       "      <td>7</td>\n",
       "      <td>35.0</td>\n",
       "      <td>43.0</td>\n",
       "      <td>51.0</td>\n",
       "      <td>95</td>\n",
       "      <td>float64</td>\n",
       "    </tr>\n",
       "  </tbody>\n",
       "</table>\n",
       "</div>"
      ],
      "text/plain": [
       "                                                                 763  \\\n",
       "mfr                                                              bmw   \n",
       "model                              5 series f10/f11, from march 2010   \n",
       "desc                    520i touring - 245/40 r19 tyres front & rear   \n",
       "trans                                                             A8   \n",
       "fuel_type                                                     petrol   \n",
       "metric_combined                                                  6.7   \n",
       "metric_extra_urban                                               5.3   \n",
       "metric_urban_cold                                                9.1   \n",
       "engine_capacity                                                 1997   \n",
       "emissions_co_mgkm                                                285   \n",
       "emissions_nox_mgkm                                                32   \n",
       "particulates_no_mgkm                                             NaN   \n",
       "thc_nox_emissions_mgkm                                           NaN   \n",
       "thc_emissions_mgkm                                                26   \n",
       "\n",
       "                                                      1741  \\\n",
       "mfr                                          mercedes-benz   \n",
       "model                       e-class coupé, model year 2015   \n",
       "desc                    e 220 bluetec with 17\" rear wheels   \n",
       "trans                                                   A7   \n",
       "fuel_type                                           diesel   \n",
       "metric_combined                                        4.7   \n",
       "metric_extra_urban                                       4   \n",
       "metric_urban_cold                                      5.8   \n",
       "engine_capacity                                       2143   \n",
       "emissions_co_mgkm                                      143   \n",
       "emissions_nox_mgkm                                      43   \n",
       "particulates_no_mgkm                                   1.1   \n",
       "thc_nox_emissions_mgkm                                  58   \n",
       "thc_emissions_mgkm                                     NaN   \n",
       "\n",
       "                                                 1036  count     mean     std  \\\n",
       "mfr                                           citroen   2643      NaN     NaN   \n",
       "model                                             ds4   2643      NaN     NaN   \n",
       "desc                    bluehdi 150 s&s (18'' wheels)   2643      NaN     NaN   \n",
       "trans                                              M6   2643      NaN     NaN   \n",
       "fuel_type                                      diesel   2643      NaN     NaN   \n",
       "metric_combined                                   3.9   2643     5.65    1.87   \n",
       "metric_extra_urban                                3.6   2643     4.85    2.35   \n",
       "metric_urban_cold                                 4.4   2643     7.10    3.00   \n",
       "engine_capacity                                  1997   2643  2073.12  903.98   \n",
       "emissions_co_mgkm                                 292   2643   268.21  140.57   \n",
       "emissions_nox_mgkm                                 51   2643    37.40   18.63   \n",
       "particulates_no_mgkm                              0.2   1306     0.35    0.35   \n",
       "thc_nox_emissions_mgkm                             70   1316    78.20   23.33   \n",
       "thc_emissions_mgkm                                NaN   1350    42.89   11.89   \n",
       "\n",
       "                           min     25%     50%     75%     max    dtype  \n",
       "mfr                     abarth     NaN     NaN     NaN   volvo   object  \n",
       "model                   1 seri     NaN     NaN     NaN  zafira   object  \n",
       "desc                    '1 air     NaN     NaN     NaN  zc 1.6   object  \n",
       "trans                      5MT     NaN     NaN     NaN    SAT6   object  \n",
       "fuel_type               diesel     NaN     NaN     NaN  petrol   object  \n",
       "metric_combined            3.1     4.4     5.1     6.3      16  float64  \n",
       "metric_extra_urban           0     4.0     4.5     5.3     107  float64  \n",
       "metric_urban_cold            0     5.2     6.2     8.1    24.7  float64  \n",
       "engine_capacity            395  1560.0  1984.0  1999.0    6752  float64  \n",
       "emissions_co_mgkm           30   162.0   243.0   341.0     913  float64  \n",
       "emissions_nox_mgkm           1    23.0    35.0    52.0     158  float64  \n",
       "particulates_no_mgkm         0     0.1     0.2     0.5       2  float64  \n",
       "thc_nox_emissions_mgkm      11    64.0    78.0    90.0     184  float64  \n",
       "thc_emissions_mgkm           7    35.0    43.0    51.0      95  float64  "
      ]
     },
     "execution_count": 17,
     "metadata": {},
     "output_type": "execute_result"
    }
   ],
   "source": [
    "custom_describe(df)"
   ]
  },
  {
   "cell_type": "markdown",
   "metadata": {},
   "source": [
    "## Feature Creation"
   ]
  },
  {
   "cell_type": "markdown",
   "metadata": {},
   "source": [
    "##### Derive transmission"
   ]
  },
  {
   "cell_type": "code",
   "execution_count": 23,
   "metadata": {
    "collapsed": false
   },
   "outputs": [
    {
     "name": "stdout",
     "output_type": "stream",
     "text": [
      "manual      1280\n",
      "auto        1033\n",
      "semiauto     330\n",
      "Name: trans_cln, dtype: int64\n",
      "0\n"
     ]
    },
    {
     "data": {
      "image/png": "[encoded data removed]",
      "text/plain": [
       "<matplotlib.figure.Figure at 0x11647f438>"
      ]
     },
     "metadata": {},
     "output_type": "display_data"
    }
   ],
   "source": [
    "df['trans_cln'] = df['trans'].apply(lambda x: clean_transmission(x))\n",
    "print(df['trans_cln'].value_counts())\n",
    "print(df['trans'].value_counts().sum() - df['trans_cln'].value_counts().sum())\n",
    "_ = sns.heatmap(df.groupby(['trans_cln','trans']).size().unstack()\n",
    "                 ,cbar=False, annot=True, fmt='.0f',annot_kws={'rotation':'90'})"
   ]
  },
  {
   "cell_type": "code",
   "execution_count": 24,
   "metadata": {
    "collapsed": false
   },
   "outputs": [],
   "source": [
    "# seems good, overwrite transmission and remove transmission_cln\n",
    "df.drop('trans', axis=1, inplace=True)\n",
    "df.rename(columns={'trans_cln':'trans'}, inplace=True)"
   ]
  },
  {
   "cell_type": "markdown",
   "metadata": {},
   "source": [
    "##### Derive TDi"
   ]
  },
  {
   "cell_type": "code",
   "execution_count": 25,
   "metadata": {
    "collapsed": false,
    "scrolled": false
   },
   "outputs": [
    {
     "data": {
      "text/plain": [
       "298"
      ]
     },
     "execution_count": 25,
     "metadata": {},
     "output_type": "execute_result"
    }
   ],
   "source": [
    "def get_tdi(r):\n",
    "    if r['fuel_type'] in set(['diesel', 'diesel electric']):\n",
    "        if re.search('tdi',r['desc']) != None:\n",
    "            return True\n",
    "        else:\n",
    "            return False\n",
    "    else:\n",
    "        return False\n",
    "\n",
    "df['is_tdi'] = df.apply(lambda r: get_tdi(r), axis=1)\n",
    "df['is_tdi'].sum()"
   ]
  },
  {
   "cell_type": "code",
   "execution_count": 26,
   "metadata": {
    "collapsed": false
   },
   "outputs": [
    {
     "data": {
      "text/html": [
       "<div>\n",
       "<table border=\"1\" class=\"dataframe\">\n",
       "  <thead>\n",
       "    <tr style=\"text-align: right;\">\n",
       "      <th>is_tdi</th>\n",
       "      <th>False</th>\n",
       "      <th>True</th>\n",
       "    </tr>\n",
       "    <tr>\n",
       "      <th>fuel_type</th>\n",
       "      <th></th>\n",
       "      <th></th>\n",
       "    </tr>\n",
       "  </thead>\n",
       "  <tbody>\n",
       "    <tr>\n",
       "      <th>diesel</th>\n",
       "      <td>994.0</td>\n",
       "      <td>298.0</td>\n",
       "    </tr>\n",
       "    <tr>\n",
       "      <th>diesel electric</th>\n",
       "      <td>14.0</td>\n",
       "      <td>NaN</td>\n",
       "    </tr>\n",
       "    <tr>\n",
       "      <th>petrol</th>\n",
       "      <td>1302.0</td>\n",
       "      <td>NaN</td>\n",
       "    </tr>\n",
       "    <tr>\n",
       "      <th>petrol electric</th>\n",
       "      <td>10.0</td>\n",
       "      <td>NaN</td>\n",
       "    </tr>\n",
       "    <tr>\n",
       "      <th>petrol hybrid</th>\n",
       "      <td>25.0</td>\n",
       "      <td>NaN</td>\n",
       "    </tr>\n",
       "  </tbody>\n",
       "</table>\n",
       "</div>"
      ],
      "text/plain": [
       "is_tdi            False  True \n",
       "fuel_type                     \n",
       "diesel            994.0  298.0\n",
       "diesel electric    14.0    NaN\n",
       "petrol           1302.0    NaN\n",
       "petrol electric    10.0    NaN\n",
       "petrol hybrid      25.0    NaN"
      ]
     },
     "execution_count": 26,
     "metadata": {},
     "output_type": "execute_result"
    }
   ],
   "source": [
    "# check against fuel type\n",
    "df.groupby(['fuel_type','is_tdi']).size().unstack()"
   ]
  },
  {
   "cell_type": "markdown",
   "metadata": {},
   "source": [
    "##### Simplify fuel type"
   ]
  },
  {
   "cell_type": "code",
   "execution_count": 27,
   "metadata": {
    "collapsed": false
   },
   "outputs": [
    {
     "data": {
      "text/plain": [
       "fuel_type\n",
       "diesel    1292\n",
       "hybrid      49\n",
       "petrol    1302\n",
       "dtype: int64"
      ]
     },
     "execution_count": 27,
     "metadata": {},
     "output_type": "execute_result"
    }
   ],
   "source": [
    "def simplify_fuel_type(r):\n",
    "    if r['fuel_type'] in set(['petrol', 'diesel']):\n",
    "        return r['fuel_type']\n",
    "    else:\n",
    "        return 'hybrid'\n",
    "\n",
    "df['fuel_type'] = df.apply(lambda r: simplify_fuel_type(r), axis=1)\n",
    "df.groupby(['fuel_type']).size()"
   ]
  },
  {
   "cell_type": "markdown",
   "metadata": {},
   "source": [
    "##### Add hierarchical parent company ownership structure"
   ]
  },
  {
   "cell_type": "code",
   "execution_count": 28,
   "metadata": {
    "collapsed": false
   },
   "outputs": [],
   "source": [
    "parent = {\n",
    "    'aston martin lagonda':['aston martin lagonda']\n",
    "    ,'bmw':['bmw','mini','rolls royce']\n",
    "    ,'daimler-ag':['mercedes-benz','smart']          \n",
    "    ,'fiat':['fiat','abarth','alfa romeo','chrysler jeep','ferrari','lancia','maserati','ram']\n",
    "    ,'ford':['ford']\n",
    "    ,'gm':['buick','cadillac','chevrolet','vauxhall']\n",
    "    ,'honda':['honda','acura']\n",
    "    ,'hyundai':['hyundai','kia']\n",
    "    ,'mazda':['mazda']\n",
    "    ,'mclaren':['mclaren']\n",
    "    ,'mitsubishi':['mitsubishi']\n",
    "    ,'peugeot-citroen':['peugeot','citroen','ds']\n",
    "    ,'renault-nissan':['renault','dacia','nissan']\n",
    "    ,'saab':['saab']\n",
    "    ,'shanghai-auto':['ssangyong']\n",
    "    ,'subaru':['subaru']\n",
    "    ,'suzuki':['suzuki']\n",
    "    ,'tata':['jaguar','land rover']\n",
    "    ,'toyota':['toyota','lexus']\n",
    "    ,'volkswagen':['volkswagen','audi','bentley motors','lamborghini','porsche','seat','skoda']\n",
    "    ,'geely':['volvo']\n",
    "}\n",
    "\n",
    "# and invert dictionary for reverse lookup\n",
    "parent_inv = {}\n",
    "for k, vs in parent.items():\n",
    "    for v in vs:\n",
    "        parent_inv[v] = k"
   ]
  },
  {
   "cell_type": "code",
   "execution_count": 29,
   "metadata": {
    "collapsed": false
   },
   "outputs": [],
   "source": [
    "df['parent'] = df['mfr'].apply(lambda x: parent_inv[x])\n",
    "ft_cat.append('parent')"
   ]
  },
  {
   "cell_type": "code",
   "execution_count": 30,
   "metadata": {
    "collapsed": false
   },
   "outputs": [
    {
     "data": {
      "text/plain": [
       "True"
      ]
     },
     "execution_count": 30,
     "metadata": {},
     "output_type": "execute_result"
    }
   ],
   "source": [
    "# check that every car has a parent\n",
    "df.shape[0] == df.groupby(['mfr','parent']).size().sum()"
   ]
  },
  {
   "cell_type": "markdown",
   "metadata": {},
   "source": [
    "##### Plot ownership structure"
   ]
  },
  {
   "cell_type": "code",
   "execution_count": 31,
   "metadata": {
    "collapsed": false
   },
   "outputs": [
    {
     "data": {
      "image/png": "[encoded data removed]",
      "text/plain": [
       "<matplotlib.figure.Figure at 0x117516cf8>"
      ]
     },
     "metadata": {},
     "output_type": "display_data"
    }
   ],
   "source": [
    "f, ax1d = plt.subplots(1,1,figsize=(12,6))\n",
    "ax = sns.heatmap(df.groupby(['mfr','parent']).size().unstack(0)\n",
    "                 ,cmap=\"OrRd\", ax=ax1d, annot=True, fmt='.0f', cbar=False)"
   ]
  },
  {
   "cell_type": "markdown",
   "metadata": {},
   "source": [
    "##### Add boolean for mfr == volkswagen, and parent == volkswagen"
   ]
  },
  {
   "cell_type": "code",
   "execution_count": 32,
   "metadata": {
    "collapsed": true
   },
   "outputs": [],
   "source": [
    "df['mfr_is_vw'] = df['mfr'] == 'volkswagen'\n",
    "df['parent_is_vw'] = df['parent'] == 'volkswagen'"
   ]
  },
  {
   "cell_type": "code",
   "execution_count": 33,
   "metadata": {
    "collapsed": false
   },
   "outputs": [
    {
     "data": {
      "text/html": [
       "<div>\n",
       "<table border=\"1\" class=\"dataframe\">\n",
       "  <thead>\n",
       "    <tr style=\"text-align: right;\">\n",
       "      <th>parent_is_vw</th>\n",
       "      <th>False</th>\n",
       "      <th>True</th>\n",
       "    </tr>\n",
       "    <tr>\n",
       "      <th>mfr_is_vw</th>\n",
       "      <th></th>\n",
       "      <th></th>\n",
       "    </tr>\n",
       "  </thead>\n",
       "  <tbody>\n",
       "    <tr>\n",
       "      <th>False</th>\n",
       "      <td>2000.0</td>\n",
       "      <td>536.0</td>\n",
       "    </tr>\n",
       "    <tr>\n",
       "      <th>True</th>\n",
       "      <td>NaN</td>\n",
       "      <td>107.0</td>\n",
       "    </tr>\n",
       "  </tbody>\n",
       "</table>\n",
       "</div>"
      ],
      "text/plain": [
       "parent_is_vw   False  True \n",
       "mfr_is_vw                  \n",
       "False         2000.0  536.0\n",
       "True             NaN  107.0"
      ]
     },
     "execution_count": 33,
     "metadata": {},
     "output_type": "execute_result"
    }
   ],
   "source": [
    "df.groupby(['mfr_is_vw','parent_is_vw']).size().unstack()"
   ]
  },
  {
   "cell_type": "markdown",
   "metadata": {},
   "source": [
    "##### Final check"
   ]
  },
  {
   "cell_type": "code",
   "execution_count": 34,
   "metadata": {
    "collapsed": false
   },
   "outputs": [
    {
     "name": "stdout",
     "output_type": "stream",
     "text": [
      "(2643, 18)\n"
     ]
    },
    {
     "data": {
      "text/html": [
       "<div>\n",
       "<table border=\"1\" class=\"dataframe\">\n",
       "  <thead>\n",
       "    <tr style=\"text-align: right;\">\n",
       "      <th></th>\n",
       "      <th>277</th>\n",
       "      <th>1788</th>\n",
       "      <th>1839</th>\n",
       "      <th>count</th>\n",
       "      <th>mean</th>\n",
       "      <th>std</th>\n",
       "      <th>min</th>\n",
       "      <th>25%</th>\n",
       "      <th>50%</th>\n",
       "      <th>75%</th>\n",
       "      <th>max</th>\n",
       "      <th>dtype</th>\n",
       "    </tr>\n",
       "  </thead>\n",
       "  <tbody>\n",
       "    <tr>\n",
       "      <th>mfr</th>\n",
       "      <td>audi</td>\n",
       "      <td>mercedes-benz</td>\n",
       "      <td>mercedes-benz</td>\n",
       "      <td>2643</td>\n",
       "      <td>NaN</td>\n",
       "      <td>NaN</td>\n",
       "      <td>abarth</td>\n",
       "      <td>NaN</td>\n",
       "      <td>NaN</td>\n",
       "      <td>NaN</td>\n",
       "      <td>volvo</td>\n",
       "      <td>object</td>\n",
       "    </tr>\n",
       "    <tr>\n",
       "      <th>model</th>\n",
       "      <td>a7 sportback</td>\n",
       "      <td>gla class, model year 2015</td>\n",
       "      <td>s-class, model year 2015½</td>\n",
       "      <td>2643</td>\n",
       "      <td>NaN</td>\n",
       "      <td>NaN</td>\n",
       "      <td>1 seri</td>\n",
       "      <td>NaN</td>\n",
       "      <td>NaN</td>\n",
       "      <td>NaN</td>\n",
       "      <td>zafira</td>\n",
       "      <td>object</td>\n",
       "    </tr>\n",
       "    <tr>\n",
       "      <th>desc</th>\n",
       "      <td>3.0 v6 tdi ultra 218ps 7speed s tronic with 19...</td>\n",
       "      <td>gla 250 4matic with 19\" rear wheels</td>\n",
       "      <td>s 350 bluetec with 19'' rear wheels</td>\n",
       "      <td>2643</td>\n",
       "      <td>NaN</td>\n",
       "      <td>NaN</td>\n",
       "      <td>'1 air</td>\n",
       "      <td>NaN</td>\n",
       "      <td>NaN</td>\n",
       "      <td>NaN</td>\n",
       "      <td>zc 1.6</td>\n",
       "      <td>object</td>\n",
       "    </tr>\n",
       "    <tr>\n",
       "      <th>fuel_type</th>\n",
       "      <td>diesel</td>\n",
       "      <td>petrol</td>\n",
       "      <td>diesel</td>\n",
       "      <td>2643</td>\n",
       "      <td>NaN</td>\n",
       "      <td>NaN</td>\n",
       "      <td>diesel</td>\n",
       "      <td>NaN</td>\n",
       "      <td>NaN</td>\n",
       "      <td>NaN</td>\n",
       "      <td>petrol</td>\n",
       "      <td>object</td>\n",
       "    </tr>\n",
       "    <tr>\n",
       "      <th>metric_combined</th>\n",
       "      <td>4.8</td>\n",
       "      <td>6.6</td>\n",
       "      <td>5.9</td>\n",
       "      <td>2643</td>\n",
       "      <td>5.65</td>\n",
       "      <td>1.87</td>\n",
       "      <td>3.1</td>\n",
       "      <td>4.4</td>\n",
       "      <td>5.1</td>\n",
       "      <td>6.3</td>\n",
       "      <td>16</td>\n",
       "      <td>float64</td>\n",
       "    </tr>\n",
       "    <tr>\n",
       "      <th>metric_extra_urban</th>\n",
       "      <td>4.4</td>\n",
       "      <td>5.6</td>\n",
       "      <td>5.1</td>\n",
       "      <td>2643</td>\n",
       "      <td>4.85</td>\n",
       "      <td>2.35</td>\n",
       "      <td>0</td>\n",
       "      <td>4.0</td>\n",
       "      <td>4.5</td>\n",
       "      <td>5.3</td>\n",
       "      <td>107</td>\n",
       "      <td>float64</td>\n",
       "    </tr>\n",
       "    <tr>\n",
       "      <th>metric_urban_cold</th>\n",
       "      <td>5.5</td>\n",
       "      <td>8.3</td>\n",
       "      <td>7.3</td>\n",
       "      <td>2643</td>\n",
       "      <td>7.10</td>\n",
       "      <td>3.00</td>\n",
       "      <td>0</td>\n",
       "      <td>5.2</td>\n",
       "      <td>6.2</td>\n",
       "      <td>8.1</td>\n",
       "      <td>24.7</td>\n",
       "      <td>float64</td>\n",
       "    </tr>\n",
       "    <tr>\n",
       "      <th>engine_capacity</th>\n",
       "      <td>2967</td>\n",
       "      <td>1991</td>\n",
       "      <td>2987</td>\n",
       "      <td>2643</td>\n",
       "      <td>2073.12</td>\n",
       "      <td>903.98</td>\n",
       "      <td>395</td>\n",
       "      <td>1560.0</td>\n",
       "      <td>1984.0</td>\n",
       "      <td>1999.0</td>\n",
       "      <td>6752</td>\n",
       "      <td>float64</td>\n",
       "    </tr>\n",
       "    <tr>\n",
       "      <th>emissions_co_mgkm</th>\n",
       "      <td>171</td>\n",
       "      <td>144</td>\n",
       "      <td>277</td>\n",
       "      <td>2643</td>\n",
       "      <td>268.21</td>\n",
       "      <td>140.57</td>\n",
       "      <td>30</td>\n",
       "      <td>162.0</td>\n",
       "      <td>243.0</td>\n",
       "      <td>341.0</td>\n",
       "      <td>913</td>\n",
       "      <td>float64</td>\n",
       "    </tr>\n",
       "    <tr>\n",
       "      <th>emissions_nox_mgkm</th>\n",
       "      <td>50</td>\n",
       "      <td>27</td>\n",
       "      <td>66</td>\n",
       "      <td>2643</td>\n",
       "      <td>37.40</td>\n",
       "      <td>18.63</td>\n",
       "      <td>1</td>\n",
       "      <td>23.0</td>\n",
       "      <td>35.0</td>\n",
       "      <td>52.0</td>\n",
       "      <td>158</td>\n",
       "      <td>float64</td>\n",
       "    </tr>\n",
       "    <tr>\n",
       "      <th>particulates_no_mgkm</th>\n",
       "      <td>0.4</td>\n",
       "      <td>NaN</td>\n",
       "      <td>0.8</td>\n",
       "      <td>1306</td>\n",
       "      <td>0.35</td>\n",
       "      <td>0.35</td>\n",
       "      <td>0</td>\n",
       "      <td>0.1</td>\n",
       "      <td>0.2</td>\n",
       "      <td>0.5</td>\n",
       "      <td>2</td>\n",
       "      <td>float64</td>\n",
       "    </tr>\n",
       "    <tr>\n",
       "      <th>thc_nox_emissions_mgkm</th>\n",
       "      <td>73</td>\n",
       "      <td>NaN</td>\n",
       "      <td>90</td>\n",
       "      <td>1316</td>\n",
       "      <td>78.20</td>\n",
       "      <td>23.33</td>\n",
       "      <td>11</td>\n",
       "      <td>64.0</td>\n",
       "      <td>78.0</td>\n",
       "      <td>90.0</td>\n",
       "      <td>184</td>\n",
       "      <td>float64</td>\n",
       "    </tr>\n",
       "    <tr>\n",
       "      <th>thc_emissions_mgkm</th>\n",
       "      <td>NaN</td>\n",
       "      <td>30</td>\n",
       "      <td>NaN</td>\n",
       "      <td>1350</td>\n",
       "      <td>42.89</td>\n",
       "      <td>11.89</td>\n",
       "      <td>7</td>\n",
       "      <td>35.0</td>\n",
       "      <td>43.0</td>\n",
       "      <td>51.0</td>\n",
       "      <td>95</td>\n",
       "      <td>float64</td>\n",
       "    </tr>\n",
       "    <tr>\n",
       "      <th>trans</th>\n",
       "      <td>semiauto</td>\n",
       "      <td>auto</td>\n",
       "      <td>auto</td>\n",
       "      <td>2643</td>\n",
       "      <td>NaN</td>\n",
       "      <td>NaN</td>\n",
       "      <td>auto</td>\n",
       "      <td>NaN</td>\n",
       "      <td>NaN</td>\n",
       "      <td>NaN</td>\n",
       "      <td>semiau</td>\n",
       "      <td>object</td>\n",
       "    </tr>\n",
       "    <tr>\n",
       "      <th>is_tdi</th>\n",
       "      <td>True</td>\n",
       "      <td>False</td>\n",
       "      <td>False</td>\n",
       "      <td>2643</td>\n",
       "      <td>NaN</td>\n",
       "      <td>NaN</td>\n",
       "      <td>False</td>\n",
       "      <td>NaN</td>\n",
       "      <td>NaN</td>\n",
       "      <td>NaN</td>\n",
       "      <td>True</td>\n",
       "      <td>bool</td>\n",
       "    </tr>\n",
       "    <tr>\n",
       "      <th>parent</th>\n",
       "      <td>volkswagen</td>\n",
       "      <td>daimler-ag</td>\n",
       "      <td>daimler-ag</td>\n",
       "      <td>2643</td>\n",
       "      <td>NaN</td>\n",
       "      <td>NaN</td>\n",
       "      <td>aston</td>\n",
       "      <td>NaN</td>\n",
       "      <td>NaN</td>\n",
       "      <td>NaN</td>\n",
       "      <td>volksw</td>\n",
       "      <td>object</td>\n",
       "    </tr>\n",
       "    <tr>\n",
       "      <th>mfr_is_vw</th>\n",
       "      <td>False</td>\n",
       "      <td>False</td>\n",
       "      <td>False</td>\n",
       "      <td>2643</td>\n",
       "      <td>NaN</td>\n",
       "      <td>NaN</td>\n",
       "      <td>False</td>\n",
       "      <td>NaN</td>\n",
       "      <td>NaN</td>\n",
       "      <td>NaN</td>\n",
       "      <td>True</td>\n",
       "      <td>bool</td>\n",
       "    </tr>\n",
       "    <tr>\n",
       "      <th>parent_is_vw</th>\n",
       "      <td>True</td>\n",
       "      <td>False</td>\n",
       "      <td>False</td>\n",
       "      <td>2643</td>\n",
       "      <td>NaN</td>\n",
       "      <td>NaN</td>\n",
       "      <td>False</td>\n",
       "      <td>NaN</td>\n",
       "      <td>NaN</td>\n",
       "      <td>NaN</td>\n",
       "      <td>True</td>\n",
       "      <td>bool</td>\n",
       "    </tr>\n",
       "  </tbody>\n",
       "</table>\n",
       "</div>"
      ],
      "text/plain": [
       "                                                                      277  \\\n",
       "mfr                                                                  audi   \n",
       "model                                                        a7 sportback   \n",
       "desc                    3.0 v6 tdi ultra 218ps 7speed s tronic with 19...   \n",
       "fuel_type                                                          diesel   \n",
       "metric_combined                                                       4.8   \n",
       "metric_extra_urban                                                    4.4   \n",
       "metric_urban_cold                                                     5.5   \n",
       "engine_capacity                                                      2967   \n",
       "emissions_co_mgkm                                                     171   \n",
       "emissions_nox_mgkm                                                     50   \n",
       "particulates_no_mgkm                                                  0.4   \n",
       "thc_nox_emissions_mgkm                                                 73   \n",
       "thc_emissions_mgkm                                                    NaN   \n",
       "trans                                                            semiauto   \n",
       "is_tdi                                                               True   \n",
       "parent                                                         volkswagen   \n",
       "mfr_is_vw                                                           False   \n",
       "parent_is_vw                                                         True   \n",
       "\n",
       "                                                       1788  \\\n",
       "mfr                                           mercedes-benz   \n",
       "model                            gla class, model year 2015   \n",
       "desc                    gla 250 4matic with 19\" rear wheels   \n",
       "fuel_type                                            petrol   \n",
       "metric_combined                                         6.6   \n",
       "metric_extra_urban                                      5.6   \n",
       "metric_urban_cold                                       8.3   \n",
       "engine_capacity                                        1991   \n",
       "emissions_co_mgkm                                       144   \n",
       "emissions_nox_mgkm                                       27   \n",
       "particulates_no_mgkm                                    NaN   \n",
       "thc_nox_emissions_mgkm                                  NaN   \n",
       "thc_emissions_mgkm                                       30   \n",
       "trans                                                  auto   \n",
       "is_tdi                                                False   \n",
       "parent                                           daimler-ag   \n",
       "mfr_is_vw                                             False   \n",
       "parent_is_vw                                          False   \n",
       "\n",
       "                                                       1839  count     mean  \\\n",
       "mfr                                           mercedes-benz   2643      NaN   \n",
       "model                             s-class, model year 2015½   2643      NaN   \n",
       "desc                    s 350 bluetec with 19'' rear wheels   2643      NaN   \n",
       "fuel_type                                            diesel   2643      NaN   \n",
       "metric_combined                                         5.9   2643     5.65   \n",
       "metric_extra_urban                                      5.1   2643     4.85   \n",
       "metric_urban_cold                                       7.3   2643     7.10   \n",
       "engine_capacity                                        2987   2643  2073.12   \n",
       "emissions_co_mgkm                                       277   2643   268.21   \n",
       "emissions_nox_mgkm                                       66   2643    37.40   \n",
       "particulates_no_mgkm                                    0.8   1306     0.35   \n",
       "thc_nox_emissions_mgkm                                   90   1316    78.20   \n",
       "thc_emissions_mgkm                                      NaN   1350    42.89   \n",
       "trans                                                  auto   2643      NaN   \n",
       "is_tdi                                                False   2643      NaN   \n",
       "parent                                           daimler-ag   2643      NaN   \n",
       "mfr_is_vw                                             False   2643      NaN   \n",
       "parent_is_vw                                          False   2643      NaN   \n",
       "\n",
       "                           std     min     25%     50%     75%     max  \\\n",
       "mfr                        NaN  abarth     NaN     NaN     NaN   volvo   \n",
       "model                      NaN  1 seri     NaN     NaN     NaN  zafira   \n",
       "desc                       NaN  '1 air     NaN     NaN     NaN  zc 1.6   \n",
       "fuel_type                  NaN  diesel     NaN     NaN     NaN  petrol   \n",
       "metric_combined           1.87     3.1     4.4     5.1     6.3      16   \n",
       "metric_extra_urban        2.35       0     4.0     4.5     5.3     107   \n",
       "metric_urban_cold         3.00       0     5.2     6.2     8.1    24.7   \n",
       "engine_capacity         903.98     395  1560.0  1984.0  1999.0    6752   \n",
       "emissions_co_mgkm       140.57      30   162.0   243.0   341.0     913   \n",
       "emissions_nox_mgkm       18.63       1    23.0    35.0    52.0     158   \n",
       "particulates_no_mgkm      0.35       0     0.1     0.2     0.5       2   \n",
       "thc_nox_emissions_mgkm   23.33      11    64.0    78.0    90.0     184   \n",
       "thc_emissions_mgkm       11.89       7    35.0    43.0    51.0      95   \n",
       "trans                      NaN    auto     NaN     NaN     NaN  semiau   \n",
       "is_tdi                     NaN   False     NaN     NaN     NaN    True   \n",
       "parent                     NaN  aston      NaN     NaN     NaN  volksw   \n",
       "mfr_is_vw                  NaN   False     NaN     NaN     NaN    True   \n",
       "parent_is_vw               NaN   False     NaN     NaN     NaN    True   \n",
       "\n",
       "                          dtype  \n",
       "mfr                      object  \n",
       "model                    object  \n",
       "desc                     object  \n",
       "fuel_type                object  \n",
       "metric_combined         float64  \n",
       "metric_extra_urban      float64  \n",
       "metric_urban_cold       float64  \n",
       "engine_capacity         float64  \n",
       "emissions_co_mgkm       float64  \n",
       "emissions_nox_mgkm      float64  \n",
       "particulates_no_mgkm    float64  \n",
       "thc_nox_emissions_mgkm  float64  \n",
       "thc_emissions_mgkm      float64  \n",
       "trans                    object  \n",
       "is_tdi                     bool  \n",
       "parent                   object  \n",
       "mfr_is_vw                  bool  \n",
       "parent_is_vw               bool  "
      ]
     },
     "execution_count": 34,
     "metadata": {},
     "output_type": "execute_result"
    }
   ],
   "source": [
    "custom_describe(df)"
   ]
  },
  {
   "cell_type": "markdown",
   "metadata": {},
   "source": [
    "##### And write to db"
   ]
  },
  {
   "cell_type": "code",
   "execution_count": 35,
   "metadata": {
    "collapsed": true
   },
   "outputs": [],
   "source": [
    "df.reset_index(inplace=True)\n",
    "del df['index']\n",
    "df.to_sql('cars', cnxsql, if_exists='replace', index=None)\n",
    "cnxsql.close()"
   ]
  },
  {
   "cell_type": "markdown",
   "metadata": {},
   "source": [
    "## Quickly check size of data of interest: Volkswagen"
   ]
  },
  {
   "cell_type": "markdown",
   "metadata": {},
   "source": [
    "##### Manufacturer"
   ]
  },
  {
   "cell_type": "code",
   "execution_count": 36,
   "metadata": {
    "collapsed": false
   },
   "outputs": [
    {
     "name": "stdout",
     "output_type": "stream",
     "text": [
      "VW Cars are 107 / 2643 = 4.0%\n"
     ]
    },
    {
     "data": {
      "image/png": "[encoded data removed]",
      "text/plain": [
       "<matplotlib.figure.Figure at 0x119aac2b0>"
      ]
     },
     "metadata": {},
     "output_type": "display_data"
    }
   ],
   "source": [
    "grp = df.groupby('mfr').size().sort_values()#[::-1]\n",
    "ax = grp.plot(kind='barh', figsize=(10,4))\n",
    "print('VW Cars are {} / {} = {:.1%}'.format(grp['volkswagen'], grp.sum()\n",
    "                                       ,grp['volkswagen'] / grp.sum()))"
   ]
  },
  {
   "cell_type": "code",
   "execution_count": 37,
   "metadata": {
    "collapsed": false
   },
   "outputs": [
    {
     "name": "stdout",
     "output_type": "stream",
     "text": [
      "VW Group are 643 / 2643 = 24.3%\n"
     ]
    },
    {
     "data": {
      "image/png": "[encoded data removed]",
      "text/plain": [
       "<matplotlib.figure.Figure at 0x119a9edd8>"
      ]
     },
     "metadata": {},
     "output_type": "display_data"
    }
   ],
   "source": [
    "grp = df.groupby('parent').size().sort_values()#[::-1]\n",
    "ax = grp.plot(kind='barh', figsize=(10,4))\n",
    "print('VW Group are {} / {} = {:.1%}'.format(grp['volkswagen'], grp.sum()\n",
    "                                       ,grp['volkswagen'] / grp.sum()))"
   ]
  },
  {
   "cell_type": "markdown",
   "metadata": {},
   "source": [
    "**Observe**: \n",
    "\n",
    "+ There's a long tail of underrepresented cars, we might need to account for this later\n",
    "+ Volkswagen is reasonably well represented in the full set with 4% of the total"
   ]
  },
  {
   "cell_type": "markdown",
   "metadata": {},
   "source": [
    "---\n",
    "**Applied AI Ltd &copy; 2016**  \n",
    "<a href='http://www.applied.ai'>applied.ai</a>"
   ]
  }
 ],
 "metadata": {
  "kernelspec": {
   "display_name": "Python 3",
   "language": "python",
   "name": "python3"
  },
  "language_info": {
   "codemirror_mode": {
    "name": "ipython",
    "version": 3
   },
   "file_extension": ".py",
   "mimetype": "text/x-python",
   "name": "python",
   "nbconvert_exporter": "python",
   "pygments_lexer": "ipython3",
   "version": "3.5.1"
  }
 },
 "nbformat": 4,
 "nbformat_minor": 0
}
